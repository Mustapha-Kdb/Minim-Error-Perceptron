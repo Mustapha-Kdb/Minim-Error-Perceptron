{
 "cells": [
  {
   "cell_type": "markdown",
   "metadata": {},
   "source": [
    "# Partie 1"
   ]
  },
  {
   "cell_type": "code",
   "execution_count": 61,
   "metadata": {},
   "outputs": [],
   "source": [
    "import pandas as pd\n",
    "import re\n",
    "\n",
    "def extract_data(input_path, pattern):\n",
    "    with open(input_path, 'r') as file:\n",
    "        content = file.read()\n",
    "    matches = re.findall(pattern, content, re.MULTILINE)\n",
    "    data = []\n",
    "    for match in matches:\n",
    "        numbers = match[1].replace('\\n', ' ').split()\n",
    "        numbers_float = [float(number) for number in numbers]\n",
    "        data.append(numbers_float)\n",
    "    return pd.DataFrame(data)\n",
    "\n",
    "rocks_path = 'data/sonar.rocks'\n",
    "mines_path = 'data/sonar.mines'\n",
    "\n",
    "\n",
    "train_pattern = r'\\*(CR|CM)\\d+:\\n\\{([\\d\\s\\.\\n]+)\\}'\n",
    "test_pattern = r'^(?!\\*)(CR|CM)\\d+:\\n\\{([\\d\\s\\.\\n]+)\\}'\n",
    "\n",
    "\n",
    "rocks_train_df = extract_data(rocks_path, train_pattern)\n",
    "mines_train_df = extract_data(mines_path, train_pattern)\n",
    "rocks_train_df['Label'] = 'R'  \n",
    "mines_train_df['Label'] = 'M' \n",
    "train_df = pd.concat([rocks_train_df, mines_train_df], ignore_index=True).sample(frac=1).reset_index(drop=True)\n",
    "\n",
    "rocks_test_df = extract_data(rocks_path, test_pattern)\n",
    "mines_test_df = extract_data(mines_path, test_pattern)\n",
    "rocks_test_df['Label'] = 'R'  \n",
    "mines_test_df['Label'] = 'M' \n",
    "test_df = pd.concat([rocks_test_df, mines_test_df], ignore_index=True).sample(frac=1).reset_index(drop=True)"
   ]
  },
  {
   "cell_type": "markdown",
   "metadata": {},
   "source": [
    "## Algorithme d'entraînement"
   ]
  },
  {
   "cell_type": "code",
   "execution_count": 62,
   "metadata": {},
   "outputs": [
    {
     "name": "stdout",
     "output_type": "stream",
     "text": [
      "[-0.55982903  0.14124534  0.26391835  0.17257769  0.31821517  0.3782745\n",
      "  0.17489325 -0.00966093 -0.33835602  0.16340255  0.27284463  0.45938301\n",
      "  0.28839587  0.27704649  0.16459953 -0.00836317 -0.51009526 -0.15197134\n",
      "  0.15895109  0.13645908 -0.03610791  0.0636274   0.17540315 -0.01643639\n",
      "  0.18885217  0.08105086  0.00442228  0.00322948  0.04192206  0.19879167\n",
      "  0.2621234  -0.56009298  0.14753189  0.01225274 -0.11287808 -0.05811205\n",
      " -0.29884217 -0.23448259  0.25761901  0.10734494 -0.34803285  0.02709948\n",
      " -0.0006769   0.07577536  0.31056787  0.56550536  0.4165845   0.32675041\n",
      "  0.44052976  0.37876606 -0.00854166  0.06084007  0.05678369  0.01934325\n",
      "  0.04428952 -0.01531017 -0.00360777 -0.02238041  0.03098726  0.01907104\n",
      "  0.00633834]\n"
     ]
    }
   ],
   "source": [
    "import numpy as np\n",
    "\n",
    "def minimerror_perceptron(training_features, training_labels, epochs, learning_rate, T_initial, T_decrease_factor):\n",
    "    \n",
    "    weights = np.zeros(training_features.shape[1] + 1)\n",
    "    T = T_initial\n",
    "    \n",
    "    for _ in range(epochs):\n",
    "        \n",
    "        update = np.zeros(training_features.shape[1] + 1)\n",
    "        \n",
    "        for inputs, label in zip(training_features, training_labels):\n",
    "            \n",
    "            activation = np.dot(inputs, weights[1:]) + weights[0]\n",
    "            predicted_label = np.tanh(activation / T)\n",
    "            \n",
    "            # Mise à jour de la règle Minimerror, en utilisant la tangente hyperbolique pour la \"température\"\n",
    "            error = label - predicted_label\n",
    "            update[1:] += learning_rate * error * inputs\n",
    "            update[0] += learning_rate * error\n",
    "        \n",
    "        weights += update\n",
    "        \n",
    "        # Diminution de la \"température\" après chaque époque pour affiner l'apprentissage\n",
    "        T *= T_decrease_factor\n",
    "    \n",
    "    return weights\n",
    "\n",
    "train_df['Label'] = train_df['Label'].apply(lambda x: 1 if x == 'M' else -1)\n",
    "test_df['Label'] = test_df['Label'].apply(lambda x: 1 if x == 'M' else -1)\n",
    "\n",
    "\n",
    "train_features = train_df.iloc[:, :-1].values\n",
    "train_labels = train_df.iloc[:, -1].values\n",
    "weights = minimerror_perceptron(train_features, train_labels, 600, 0.001, T_initial=80, T_decrease_factor=0.99)\n",
    "print (weights)\n"
   ]
  },
  {
   "cell_type": "markdown",
   "metadata": {},
   "source": [
    "Ea et Eg"
   ]
  },
  {
   "cell_type": "code",
   "execution_count": 63,
   "metadata": {},
   "outputs": [
    {
     "name": "stdout",
     "output_type": "stream",
     "text": [
      "Erreur d'apprentissage (Ea) : 0.29807692307692313\n",
      "Erreur de généralisation (Eg) : 0.1826923076923077\n"
     ]
    }
   ],
   "source": [
    "def predict_perceptron(inputs, weights):\n",
    "    activation = np.dot(inputs, weights[1:]) + weights[0]\n",
    "    return 1 if activation >= 0 else -1\n",
    "\n",
    "\n",
    "def calculate_accuracy(features, labels, weights):\n",
    "    predictions = [predict_perceptron(x, weights) for x in features]\n",
    "    correct_predictions = sum(pred == label for pred, label in zip(predictions, labels))\n",
    "    accuracy = correct_predictions / len(labels)\n",
    "    return accuracy\n",
    "\n",
    "\n",
    "test_features = test_df.iloc[:, :-1].values\n",
    "test_labels = test_df.iloc[:, -1].values\n",
    "\n",
    "\n",
    "training_accuracy = calculate_accuracy(train_features, train_labels, weights)\n",
    "testing_accuracy = calculate_accuracy(test_features, test_labels, weights)\n",
    "\n",
    "\n",
    "Ea = 1 - training_accuracy\n",
    "Eg = 1 - testing_accuracy\n",
    "\n",
    "print(f\"Erreur d'apprentissage (Ea) : {Ea}\")\n",
    "print(f\"Erreur de généralisation (Eg) : {Eg}\")\n"
   ]
  }
 ],
 "metadata": {
  "kernelspec": {
   "display_name": "Python 3",
   "language": "python",
   "name": "python3"
  },
  "language_info": {
   "codemirror_mode": {
    "name": "ipython",
    "version": 3
   },
   "file_extension": ".py",
   "mimetype": "text/x-python",
   "name": "python",
   "nbconvert_exporter": "python",
   "pygments_lexer": "ipython3",
   "version": "3.10.8"
  }
 },
 "nbformat": 4,
 "nbformat_minor": 2
}
