{
 "cells": [
  {
   "cell_type": "markdown",
   "metadata": {},
   "source": [
    "# Partie 1"
   ]
  },
  {
   "cell_type": "code",
   "execution_count": 30,
   "metadata": {},
   "outputs": [],
   "source": [
    "import pandas as pd\n",
    "import re\n",
    "\n",
    "def extract_data(input_path, pattern):\n",
    "    with open(input_path, 'r') as file:\n",
    "        content = file.read()\n",
    "    matches = re.findall(pattern, content, re.MULTILINE)\n",
    "    data = []\n",
    "    for match in matches:\n",
    "        numbers = match[1].replace('\\n', ' ').split()\n",
    "        numbers_float = [float(number) for number in numbers]\n",
    "        data.append(numbers_float)\n",
    "    return pd.DataFrame(data)\n",
    "\n",
    "rocks_path = 'data/sonar.rocks'\n",
    "mines_path = 'data/sonar.mines'\n",
    "\n",
    "\n",
    "train_pattern = r'\\*(CR|CM)\\d+:\\n\\{([\\d\\s\\.\\n]+)\\}'\n",
    "test_pattern = r'^(?!\\*)(CR|CM)\\d+:\\n\\{([\\d\\s\\.\\n]+)\\}'\n",
    "\n",
    "\n",
    "rocks_train_df = extract_data(rocks_path, train_pattern)\n",
    "mines_train_df = extract_data(mines_path, train_pattern)\n",
    "rocks_train_df['Label'] = 'R'  \n",
    "mines_train_df['Label'] = 'M' \n",
    "train_df = pd.concat([rocks_train_df, mines_train_df], ignore_index=True).sample(frac=1).reset_index(drop=True)\n",
    "\n",
    "rocks_test_df = extract_data(rocks_path, test_pattern)\n",
    "mines_test_df = extract_data(mines_path, test_pattern)\n",
    "rocks_test_df['Label'] = 'R'  \n",
    "mines_test_df['Label'] = 'M' \n",
    "test_df = pd.concat([rocks_test_df, mines_test_df], ignore_index=True).sample(frac=1).reset_index(drop=True)"
   ]
  },
  {
   "cell_type": "markdown",
   "metadata": {},
   "source": [
    "## Algorithme d'entraînement"
   ]
  },
  {
   "cell_type": "code",
   "execution_count": 31,
   "metadata": {},
   "outputs": [],
   "source": [
    "import numpy as np\n",
    "\n",
    "def update_weights_minimerror(X, y, weights, T, learning_rate):\n",
    "    gradients = np.zeros_like(weights)\n",
    "    \n",
    "    for mu in range(X.shape[0]):\n",
    "        xi_mu = X[mu]\n",
    "        tau_mu = y[mu]\n",
    "        gamma_mu = (np.dot(xi_mu, weights)) * tau_mu / np.linalg.norm(weights)\n",
    "        tanh_term = np.tanh(gamma_mu / (2 * T))\n",
    "        derivative = (1 - tanh_term**2) / (2 * T)\n",
    "        gradients += (xi_mu * tau_mu) * derivative\n",
    "    \n",
    "    # Apply the weight update outside the loop for efficiency\n",
    "    weights -= learning_rate * gradients / len(X)\n",
    "    \n",
    "    return weights\n",
    "\n",
    "\n",
    "# Assuming train_df and test_df are pandas DataFrames with the last column 'Label' \n",
    "# and all other columns as features.\n",
    "\n",
    "# Map labels 'R' and 'M' to -1 and 1 respectively\n",
    "train_df['Label'] = train_df['Label'].map({'R': -1, 'M': 1})\n",
    "test_df['Label'] = test_df['Label'].map({'R': -1, 'M': 1})\n",
    "\n",
    "# Extract features and labels\n",
    "X_train = train_df.drop('Label', axis=1).values\n",
    "y_train = train_df['Label'].values\n",
    "X_test = test_df.drop('Label', axis=1).values\n",
    "y_test = test_df['Label'].values\n",
    "\n",
    "# Add a bias term (column of ones) to the features\n",
    "X_train = np.hstack((np.ones((X_train.shape[0], 1)), X_train))\n",
    "X_test = np.hstack((np.ones((X_test.shape[0], 1)), X_test))\n",
    "\n",
    "# Initialize weights including bias\n",
    "weights = np.random.normal(0, 1, X_train.shape[1])\n",
    "\n",
    "# Set hyperparameters\n",
    "learning_rate = 0.01\n",
    "epochs = 25000\n",
    "initial_T = 1\n",
    "final_T = 0.01\n",
    "T_decrease_factor = (final_T / initial_T) ** (1 / epochs)\n",
    "\n",
    "# Train with the Minimerror rule\n",
    "for epoch in range(epochs):\n",
    "    T = initial_T * (T_decrease_factor ** epoch)\n",
    "    weights = update_weights_minimerror(X_train, y_train, weights, T, learning_rate)\n"
   ]
  },
  {
   "cell_type": "markdown",
   "metadata": {},
   "source": [
    "Ea et Eg"
   ]
  },
  {
   "cell_type": "code",
   "execution_count": 32,
   "metadata": {},
   "outputs": [
    {
     "name": "stdout",
     "output_type": "stream",
     "text": [
      "Erreur d'apprentissage (Ea) : 0.7884615384615384\n",
      "Erreur de généralisation (Eg) : 0.6826923076923077\n"
     ]
    }
   ],
   "source": [
    "def predict_perceptron(inputs, weights):\n",
    "    activation = np.dot(inputs, weights[1:]) + weights[0]\n",
    "    return 1 if activation >= 0 else -1\n",
    "\n",
    "\n",
    "def calculate_accuracy(features, labels, weights):\n",
    "    predictions = [predict_perceptron(x, weights) for x in features]\n",
    "    correct_predictions = sum(pred == label for pred, label in zip(predictions, labels))\n",
    "    accuracy = correct_predictions / len(labels)\n",
    "    return accuracy\n",
    "\n",
    "\n",
    "test_features = test_df.iloc[:, :-1].values\n",
    "test_labels = test_df.iloc[:, -1].values\n",
    "\n",
    "\n",
    "training_accuracy = calculate_accuracy(train_features, train_labels, weights)\n",
    "testing_accuracy = calculate_accuracy(test_features, test_labels, weights)\n",
    "\n",
    "\n",
    "Ea = 1 - training_accuracy\n",
    "Eg = 1 - testing_accuracy\n",
    "\n",
    "print(f\"Erreur d'apprentissage (Ea) : {Ea}\")\n",
    "print(f\"Erreur de généralisation (Eg) : {Eg}\")\n"
   ]
  }
 ],
 "metadata": {
  "kernelspec": {
   "display_name": "Python 3",
   "language": "python",
   "name": "python3"
  },
  "language_info": {
   "codemirror_mode": {
    "name": "ipython",
    "version": 3
   },
   "file_extension": ".py",
   "mimetype": "text/x-python",
   "name": "python",
   "nbconvert_exporter": "python",
   "pygments_lexer": "ipython3",
   "version": "3.9.4"
  }
 },
 "nbformat": 4,
 "nbformat_minor": 2
}
