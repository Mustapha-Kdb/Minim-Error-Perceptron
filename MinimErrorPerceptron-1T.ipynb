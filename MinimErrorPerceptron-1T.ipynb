{
 "cells": [
  {
   "cell_type": "markdown",
   "metadata": {},
   "source": [
    "# Partie 1"
   ]
  },
  {
   "cell_type": "code",
   "execution_count": 2,
   "metadata": {},
   "outputs": [],
   "source": [
    "import pandas as pd\n",
    "import re\n",
    "\n",
    "def extract_data(input_path, pattern):\n",
    "    with open(input_path, 'r') as file:\n",
    "        content = file.read()\n",
    "    matches = re.findall(pattern, content, re.MULTILINE)\n",
    "    data = []\n",
    "    for match in matches:\n",
    "        numbers = match[1].replace('\\n', ' ').split()\n",
    "        numbers_float = [float(number) for number in numbers]\n",
    "        data.append(numbers_float)\n",
    "    return pd.DataFrame(data)\n",
    "\n",
    "rocks_path = 'data/sonar.rocks'\n",
    "mines_path = 'data/sonar.mines'\n",
    "\n",
    "\n",
    "train_pattern = r'\\*(CR|CM)\\d+:\\n\\{([\\d\\s\\.\\n]+)\\}'\n",
    "test_pattern = r'^(?!\\*)(CR|CM)\\d+:\\n\\{([\\d\\s\\.\\n]+)\\}'\n",
    "\n",
    "\n",
    "rocks_train_df = extract_data(rocks_path, train_pattern)\n",
    "mines_train_df = extract_data(mines_path, train_pattern)\n",
    "rocks_train_df['Label'] = 'R'  \n",
    "mines_train_df['Label'] = 'M' \n",
    "train_df = pd.concat([rocks_train_df, mines_train_df], ignore_index=True).sample(frac=1).reset_index(drop=True)\n",
    "\n",
    "rocks_test_df = extract_data(rocks_path, test_pattern)\n",
    "mines_test_df = extract_data(mines_path, test_pattern)\n",
    "rocks_test_df['Label'] = 'R'  \n",
    "mines_test_df['Label'] = 'M' \n",
    "test_df = pd.concat([rocks_test_df, mines_test_df], ignore_index=True).sample(frac=1).reset_index(drop=True)"
   ]
  },
  {
   "cell_type": "markdown",
   "metadata": {},
   "source": [
    "## Algorithme d'entraînement"
   ]
  },
  {
   "cell_type": "code",
   "execution_count": 3,
   "metadata": {},
   "outputs": [
    {
     "name": "stdout",
     "output_type": "stream",
     "text": [
      "[-0.80830915  0.25625703  0.46563226  0.35877301  0.6234483   0.64277698\n",
      "  0.17295119 -0.03330377 -0.66628792  0.20795886  0.29111373  0.59652312\n",
      "  0.56565151  0.55749394  0.15636686 -0.15626178 -0.80248842 -0.15853216\n",
      "  0.08335994  0.28419475  0.05990517 -0.06480158  0.09086023  0.05480104\n",
      "  0.45706909 -0.01807372 -0.35836622 -0.13828506 -0.06612278  0.34833331\n",
      "  0.4308203  -1.04470212  0.28246886  0.27517293 -0.08391642 -0.41048659\n",
      " -0.39812677 -0.20137764  0.29993622  0.0407947  -0.83818622 -0.14416697\n",
      "  0.12943592  0.0935307   0.48129602  1.0589036   0.98771646  0.67105011\n",
      "  0.78775013  0.65987466  0.00705074  0.12850767  0.12051211  0.03272064\n",
      "  0.08298007 -0.01897161 -0.00463763 -0.03162413  0.0516127   0.05094997\n",
      "  0.02553518]\n"
     ]
    }
   ],
   "source": [
    "import numpy as np\n",
    "\n",
    "def minimerror_perceptron(training_features, training_labels, epochs, learning_rate, T_initial, T_decrease_factor):\n",
    "    \n",
    "    weights = np.zeros(training_features.shape[1] + 1)\n",
    "    T = T_initial\n",
    "    \n",
    "    for _ in range(epochs):\n",
    "        \n",
    "        update = np.zeros(training_features.shape[1] + 1)\n",
    "        \n",
    "        for inputs, label in zip(training_features, training_labels):\n",
    "            \n",
    "            activation = np.dot(inputs, weights[1:]) + weights[0]\n",
    "            predicted_label = np.tanh(activation / T)\n",
    "            \n",
    "            # Mise à jour de la règle Minimerror, en utilisant la tangente hyperbolique pour la \"température\"\n",
    "            error = label - predicted_label\n",
    "            update[1:] += learning_rate * error * inputs\n",
    "            update[0] += learning_rate * error\n",
    "        \n",
    "        weights += update\n",
    "        \n",
    "        # Diminution de la \"température\" après chaque époque pour affiner l'apprentissage\n",
    "        T *= T_decrease_factor\n",
    "    \n",
    "    return weights\n",
    "\n",
    "train_df['Label'] = train_df['Label'].apply(lambda x: 1 if x == 'M' else -1)\n",
    "test_df['Label'] = test_df['Label'].apply(lambda x: 1 if x == 'M' else -1)\n",
    "\n",
    "\n",
    "train_features = train_df.iloc[:, :-1].values\n",
    "train_labels = train_df.iloc[:, -1].values\n",
    "weights = minimerror_perceptron(train_features, train_labels, 1000, 0.001, T_initial=100, T_decrease_factor=0.99)\n",
    "print (weights)\n"
   ]
  },
  {
   "cell_type": "markdown",
   "metadata": {},
   "source": [
    "Ea et Eg"
   ]
  },
  {
   "cell_type": "code",
   "execution_count": null,
   "metadata": {},
   "outputs": [],
   "source": [
    "def predict_perceptron(inputs, weights):\n",
    "    activation = np.dot(inputs, weights[1:]) + weights[0]\n",
    "    return 1 if activation >= 0 else -1\n",
    "\n",
    "\n",
    "def calculate_accuracy(features, labels, weights):\n",
    "    predictions = [predict_perceptron(x, weights) for x in features]\n",
    "    correct_predictions = sum(pred == label for pred, label in zip(predictions, labels))\n",
    "    accuracy = correct_predictions / len(labels)\n",
    "    return accuracy\n",
    "\n",
    "\n",
    "\n",
    "\n",
    "\n",
    "test_features = test_df.iloc[:, :-1].values\n",
    "test_labels = test_df.iloc[:, -1].values\n",
    "\n",
    "\n",
    "training_accuracy = calculate_accuracy(train_features, train_labels, weights)\n",
    "testing_accuracy = calculate_accuracy(test_features, test_labels, weights)\n",
    "\n",
    "\n",
    "Ea = 1 - training_accuracy\n",
    "Eg = 1 - testing_accuracy\n",
    "\n",
    "print(f\"Erreur d'apprentissage (Ea) : {Ea}\")\n",
    "print(f\"Erreur de généralisation (Eg) : {Eg}\")\n",
    "\n"
   ]
  }
 ],
 "metadata": {
  "kernelspec": {
   "display_name": "Python 3",
   "language": "python",
   "name": "python3"
  },
  "language_info": {
   "codemirror_mode": {
    "name": "ipython",
    "version": 3
   },
   "file_extension": ".py",
   "mimetype": "text/x-python",
   "name": "python",
   "nbconvert_exporter": "python",
   "pygments_lexer": "ipython3",
   "version": "3.10.8"
  }
 },
 "nbformat": 4,
 "nbformat_minor": 2
}
