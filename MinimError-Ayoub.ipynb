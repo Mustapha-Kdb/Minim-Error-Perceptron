{
 "cells": [
  {
   "cell_type": "markdown",
   "metadata": {},
   "source": [
    "* Étape 1 : Définir les données XOR\n"
   ]
  },
  {
   "cell_type": "code",
   "execution_count": 107,
   "metadata": {},
   "outputs": [],
   "source": [
    "import pandas as pd\n",
    "import re\n",
    "\n",
    "def extract_data(input_path, pattern):\n",
    "    with open(input_path, 'r') as file:\n",
    "        content = file.read()\n",
    "    matches = re.findall(pattern, content, re.MULTILINE)\n",
    "    data = []\n",
    "    for match in matches:\n",
    "        numbers = match[1].replace('\\n', ' ').split()\n",
    "        numbers_float = [float(number) for number in numbers]\n",
    "        data.append(numbers_float)\n",
    "    return pd.DataFrame(data)\n",
    "\n",
    "rocks_path = 'data/sonar.rocks'\n",
    "mines_path = 'data/sonar.mines'\n",
    "\n",
    "\n",
    "train_pattern = r'\\*(CR|CM)\\d+:\\n\\{([\\d\\s\\.\\n]+)\\}'\n",
    "test_pattern = r'^(?!\\*)(CR|CM)\\d+:\\n\\{([\\d\\s\\.\\n]+)\\}'\n",
    "\n",
    "\n",
    "rocks_train_df = extract_data(rocks_path, train_pattern)\n",
    "mines_train_df = extract_data(mines_path, train_pattern)\n",
    "rocks_train_df['Label'] = 'R'  \n",
    "mines_train_df['Label'] = 'M' \n",
    "train_df = pd.concat([rocks_train_df, mines_train_df], ignore_index=True).sample(frac=1).reset_index(drop=True)\n",
    "\n",
    "rocks_test_df = extract_data(rocks_path, test_pattern)\n",
    "mines_test_df = extract_data(mines_path, test_pattern)\n",
    "rocks_test_df['Label'] = 'R'  \n",
    "mines_test_df['Label'] = 'M' \n",
    "test_df = pd.concat([rocks_test_df, mines_test_df], ignore_index=True).sample(frac=1).reset_index(drop=True)"
   ]
  },
  {
   "cell_type": "markdown",
   "metadata": {},
   "source": [
    "Préparation des Données\n"
   ]
  },
  {
   "cell_type": "code",
   "execution_count": 108,
   "metadata": {},
   "outputs": [],
   "source": [
    "# Assurons-nous que les étiquettes sont numériques\n",
    "train_df['Label'] = train_df['Label'].map({'R': 0, 'M': 1})\n",
    "test_df['Label'] = test_df['Label'].map({'R': 0, 'M': 1})\n",
    "\n",
    "# Séparation des caractéristiques et des étiquettes\n",
    "X_train = train_df.drop('Label', axis=1)\n",
    "y_train = train_df['Label']\n",
    "X_test = test_df.drop('Label', axis=1)\n",
    "y_test = test_df['Label']\n",
    "X_train = np.hstack([np.ones((X_train.shape[0], 1)), X_train])\n",
    "X_test = np.hstack([np.ones((X_test.shape[0], 1)), X_test])\n",
    "\n"
   ]
  },
  {
   "cell_type": "markdown",
   "metadata": {},
   "source": [
    "Minimerror Simplifié\n"
   ]
  },
  {
   "cell_type": "code",
   "execution_count": 110,
   "metadata": {},
   "outputs": [
    {
     "ename": "ValueError",
     "evalue": "shapes (61,) and (62,) not aligned: 61 (dim 0) != 62 (dim 0)",
     "output_type": "error",
     "traceback": [
      "\u001b[1;31m---------------------------------------------------------------------------\u001b[0m",
      "\u001b[1;31mValueError\u001b[0m                                Traceback (most recent call last)",
      "Cell \u001b[1;32mIn[110], line 56\u001b[0m\n\u001b[0;32m     54\u001b[0m beta \u001b[38;5;241m=\u001b[39m initial_beta \u001b[38;5;241m+\u001b[39m epoch \u001b[38;5;241m*\u001b[39m beta_increment\n\u001b[0;32m     55\u001b[0m T\u001b[38;5;241m=\u001b[39m\u001b[38;5;241m1\u001b[39m\u001b[38;5;241m/\u001b[39mbeta\n\u001b[1;32m---> 56\u001b[0m weights \u001b[38;5;241m=\u001b[39m \u001b[43mupdate_weights_minimerror\u001b[49m\u001b[43m(\u001b[49m\u001b[43mX_train\u001b[49m\u001b[43m,\u001b[49m\u001b[43m \u001b[49m\u001b[43my_train\u001b[49m\u001b[43m,\u001b[49m\u001b[43m \u001b[49m\u001b[43mweights\u001b[49m\u001b[43m,\u001b[49m\u001b[43m \u001b[49m\u001b[43mT\u001b[49m\u001b[43m,\u001b[49m\u001b[43m \u001b[49m\u001b[43mlearning_rate\u001b[49m\u001b[43m)\u001b[49m\n\u001b[0;32m     57\u001b[0m \u001b[38;5;66;03m# Evaluation\u001b[39;00m\n\u001b[0;32m     58\u001b[0m y_pred_train \u001b[38;5;241m=\u001b[39m predict_perceptron(X_train, weights) \u001b[38;5;241m>\u001b[39m \u001b[38;5;241m0.5\u001b[39m\n",
      "Cell \u001b[1;32mIn[110], line 16\u001b[0m, in \u001b[0;36mupdate_weights_minimerror\u001b[1;34m(X, y, weights, T, learning_rate)\u001b[0m\n\u001b[0;32m     14\u001b[0m xi \u001b[38;5;241m=\u001b[39m X[mu, :]\n\u001b[0;32m     15\u001b[0m tau \u001b[38;5;241m=\u001b[39m y[mu]\n\u001b[1;32m---> 16\u001b[0m gamma \u001b[38;5;241m=\u001b[39m (tau \u001b[38;5;241m*\u001b[39m \u001b[43mnp\u001b[49m\u001b[38;5;241;43m.\u001b[39;49m\u001b[43mdot\u001b[49m\u001b[43m(\u001b[49m\u001b[43mxi\u001b[49m\u001b[43m,\u001b[49m\u001b[43m \u001b[49m\u001b[43mweights\u001b[49m\u001b[43m)\u001b[49m) \u001b[38;5;241m/\u001b[39m weights_norm\n\u001b[0;32m     17\u001b[0m tanh_gamma \u001b[38;5;241m=\u001b[39m np\u001b[38;5;241m.\u001b[39mtanh(gamma \u001b[38;5;241m/\u001b[39m (\u001b[38;5;241m2\u001b[39m \u001b[38;5;241m*\u001b[39m T))\n\u001b[0;32m     18\u001b[0m factor \u001b[38;5;241m=\u001b[39m (\u001b[38;5;241m1\u001b[39m \u001b[38;5;241m-\u001b[39m tanh_gamma\u001b[38;5;241m*\u001b[39m\u001b[38;5;241m*\u001b[39m\u001b[38;5;241m2\u001b[39m) \u001b[38;5;241m/\u001b[39m (\u001b[38;5;241m2\u001b[39m \u001b[38;5;241m*\u001b[39m T)\n",
      "\u001b[1;31mValueError\u001b[0m: shapes (61,) and (62,) not aligned: 61 (dim 0) != 62 (dim 0)"
     ]
    }
   ],
   "source": [
    "import numpy as np\n",
    "import matplotlib.pyplot as plt\n",
    "\n",
    "def predict_perceptron(inputs, weights):\n",
    "    activation = np.dot(inputs, weights[1:]) + weights[0]\n",
    "    return 1 if activation >= 0 else -1\n",
    "\n",
    "# Mise à jour des poids selon Minimerror\n",
    "def update_weights_minimerror(X, y, weights, T, learning_rate):\n",
    "    weights_norm = np.linalg.norm(weights)\n",
    "    gradients = np.zeros_like(weights)\n",
    "    \n",
    "    for mu in range(X.shape[0]):\n",
    "        xi = X[mu, :]\n",
    "        tau = y[mu]\n",
    "        gamma = (tau * np.dot(xi, weights)) / weights_norm\n",
    "        tanh_gamma = np.tanh(gamma / (2 * T))\n",
    "        factor = (1 - tanh_gamma**2) / (2 * T)\n",
    "        gradient_mu = factor * (xi * tau / weights_norm - weights * (tau * np.dot(weights, xi)) / weights_norm**3)\n",
    "        gradients += gradient_mu\n",
    "    \n",
    "    new_weights = weights - learning_rate * gradients / X.shape[0]\n",
    "    return new_weights\n",
    "\n",
    "\n",
    "\n",
    "# Calcul de l'erreur (MSE)\n",
    "def compute_error(y_true, y_pred):\n",
    "    return ((y_true - y_pred) ** 2).mean()\n",
    "\n",
    "# Stabilité des exemples de test\n",
    "def compute_stabilities(X, weights):\n",
    "    # La normalisation des poids devrait inclure tous les poids, y compris le biais\n",
    "    norm_weights = np.linalg.norm(weights)\n",
    "    # Utiliser tous les poids pour calculer la distance à l'hyperplan\n",
    "    return np.dot(X, weights) / norm_weights\n",
    "\n",
    "\n",
    "# Initialisation des variables\n",
    "np.random.seed(42)\n",
    "weights = np.random.normal(0, 1, X_train.shape[1])\n",
    "learning_rate = 0.01\n",
    "epochs = 1\n",
    "\n",
    "# Initialisation de beta\n",
    "initial_beta = 1\n",
    "final_beta = 10  # Supposons que nous voulons que beta atteigne 10 à la fin de l'entraînement\n",
    "beta_increment = (final_beta - initial_beta) / epochs\n",
    "\n",
    "Ea = 1\n",
    "Eg = 1\n",
    "# Boucle d'apprentissage avec ajustement de beta\n",
    "while Ea > 0.2 and Eg > 0.2:\n",
    "    beta = initial_beta + epoch * beta_increment\n",
    "    T=1/beta\n",
    "    weights = update_weights_minimerror(X_train, y_train, weights, T, learning_rate)\n",
    "    # Evaluation\n",
    "    y_pred_train = predict(X_train, weights) > 0.5\n",
    "    y_pred_test = predict(X_test, weights) > 0.5\n",
    "    Ea = compute_error(y_train, y_pred_train)\n",
    "    Eg = compute_error(y_test, y_pred_test)\n",
    "    epoch += 1\n",
    "    \n",
    "print(epoch)\n",
    "\n",
    "\n",
    "print(f\"Erreur d'apprentissage (Ea): {Ea}\")\n",
    "print(f\"Erreur de généralisation (Eg): {Eg}\")\n",
    "print(\"Poids du perceptron (W):\", weights)\n",
    "\n",
    "# Calcul et affichage des stabilités pour l'ensemble de test\n",
    "stabilities = compute_stabilities(X_test, weights)\n",
    "plt.hist(stabilities, bins=20)\n",
    "plt.title('Distribution des Stabilités des Exemples de Test')\n",
    "plt.xlabel('Stabilité')\n",
    "plt.ylabel('Nombre d\\'Exemples')\n",
    "plt.show()\n"
   ]
  }
 ],
 "metadata": {
  "kernelspec": {
   "display_name": "Python 3",
   "language": "python",
   "name": "python3"
  },
  "language_info": {
   "codemirror_mode": {
    "name": "ipython",
    "version": 3
   },
   "file_extension": ".py",
   "mimetype": "text/x-python",
   "name": "python",
   "nbconvert_exporter": "python",
   "pygments_lexer": "ipython3",
   "version": "3.9.4"
  }
 },
 "nbformat": 4,
 "nbformat_minor": 2
}
